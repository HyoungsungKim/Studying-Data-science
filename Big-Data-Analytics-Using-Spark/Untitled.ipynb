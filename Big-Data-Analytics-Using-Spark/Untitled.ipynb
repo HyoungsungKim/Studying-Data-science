{
 "cells": [
  {
   "cell_type": "code",
   "execution_count": 1,
   "metadata": {
    "ExecuteTime": {
     "end_time": "2021-03-10T05:35:21.042558Z",
     "start_time": "2021-03-10T05:35:21.030732Z"
    }
   },
   "outputs": [],
   "source": [
    "import findspark"
   ]
  },
  {
   "cell_type": "code",
   "execution_count": 2,
   "metadata": {
    "ExecuteTime": {
     "end_time": "2021-03-10T05:35:43.992032Z",
     "start_time": "2021-03-10T05:35:41.756877Z"
    }
   },
   "outputs": [
    {
     "name": "stdout",
     "output_type": "stream",
     "text": [
      "\u001b[31mDEPRECATION: The default format will switch to columns in the future. You can use --format=(legacy|columns) (or define a format=(legacy|columns) in your pip.conf under the [list] section) to disable this warning.\u001b[0m\n",
      "absl-py (0.1.10)\n",
      "alembic (0.9.7)\n",
      "asn1crypto (0.24.0)\n",
      "astor (0.6.2)\n",
      "basemap (1.1.0)\n",
      "beautifulsoup4 (4.6.0)\n",
      "bleach (1.5.0)\n",
      "bokeh (0.12.14)\n",
      "certifi (2018.1.18)\n",
      "cffi (1.11.5)\n",
      "chardet (3.0.4)\n",
      "click (6.7)\n",
      "cloudpickle (0.2.2)\n",
      "conda (4.3.34)\n",
      "cryptography (2.2.1)\n",
      "cycler (0.10.0)\n",
      "Cython (0.25.2)\n",
      "cytoolz (0.9.0.1)\n",
      "dask (0.17.2)\n",
      "decorator (4.2.1)\n",
      "dill (0.2.7.1)\n",
      "distributed (1.21.4)\n",
      "entrypoints (0.2.3)\n",
      "fastcache (1.0.2)\n",
      "findspark (1.2.0)\n",
      "Flask (0.12.2)\n",
      "gast (0.2.0)\n",
      "grpcio (1.11.0)\n",
      "h5py (2.7.1)\n",
      "heapdict (1.0.0)\n",
      "html5lib (0.9999999)\n",
      "idna (2.6)\n",
      "imageio (2.3.0)\n",
      "ipykernel (4.8.2)\n",
      "ipyleaflet (0.8.1)\n",
      "ipython (6.2.1)\n",
      "ipython-genutils (0.2.0)\n",
      "ipywidgets (7.1.2)\n",
      "itsdangerous (0.24)\n",
      "jedi (0.11.1)\n",
      "Jinja2 (2.10)\n",
      "jsonschema (2.6.0)\n",
      "jupyter (1.0.0)\n",
      "jupyter-client (5.2.3)\n",
      "jupyter-console (5.2.0)\n",
      "jupyter-contrib-core (0.3.3)\n",
      "jupyter-contrib-nbextensions (0.5.0)\n",
      "jupyter-core (4.4.0)\n",
      "jupyter-highlight-selected-word (0.1.1)\n",
      "jupyter-latex-envs (1.4.4)\n",
      "jupyter-nbextensions-configurator (0.4.0)\n",
      "jupyter-tensorboard (0.1.6)\n",
      "jupyterhub (0.8.1)\n",
      "jupyterlab (0.31.12)\n",
      "jupyterlab-launcher (0.10.5)\n",
      "kiwisolver (1.0.1)\n",
      "llvmlite (0.22.0)\n",
      "locket (0.2.0)\n",
      "lxml (4.2.1)\n",
      "Mako (1.0.7)\n",
      "Markdown (2.6.11)\n",
      "MarkupSafe (1.0)\n",
      "matplotlib (2.2.2)\n",
      "mistune (0.8.3)\n",
      "msgpack-python (0.5.5)\n",
      "nbconvert (5.3.1)\n",
      "nbformat (4.4.0)\n",
      "nbgrader (0.5.4)\n",
      "networkx (2.1)\n",
      "notebook (5.4.1)\n",
      "numba (0.37.0)\n",
      "numexpr (2.6.4)\n",
      "numpy (1.14.2)\n",
      "olefile (0.45.1)\n",
      "packaging (17.1)\n",
      "pamela (0.3.0)\n",
      "pandas (0.22.0)\n",
      "pandocfilters (1.4.1)\n",
      "parso (0.1.1)\n",
      "partd (0.3.8)\n",
      "patsy (0.4.1)\n",
      "pexpect (4.4.0)\n",
      "pickleshare (0.7.4)\n",
      "Pillow (5.1.0)\n",
      "pip (9.0.1)\n",
      "prompt-toolkit (1.0.15)\n",
      "protobuf (3.5.2)\n",
      "psutil (5.4.3)\n",
      "ptyprocess (0.5.2)\n",
      "pyarrow (0.9.0)\n",
      "pycosat (0.6.3)\n",
      "pycparser (2.18)\n",
      "pydot (1.2.4)\n",
      "pydotplus (2.0.2)\n",
      "Pygments (2.2.0)\n",
      "pyOpenSSL (17.5.0)\n",
      "pyparsing (2.2.0)\n",
      "pyproj (1.9.5.1)\n",
      "pyshp (1.2.12)\n",
      "PySocks (1.6.8)\n",
      "pyspark (2.3.0)\n",
      "python-dateutil (2.7.1)\n",
      "python-editor (1.0.3)\n",
      "python-oauth2 (1.0.1)\n",
      "pytz (2018.3)\n",
      "PyWavelets (0.5.2)\n",
      "PyYAML (3.12)\n",
      "pyzmq (17.0.0)\n",
      "qtconsole (4.3.1)\n",
      "requests (2.18.4)\n",
      "rise (5.2.0)\n",
      "ruamel-yaml (0.15.35)\n",
      "scikit-image (0.13.1)\n",
      "scikit-learn (0.19.1)\n",
      "scipy (1.0.0)\n",
      "seaborn (0.7.1)\n",
      "Send2Trash (1.5.0)\n",
      "setuptools (39.0.1)\n",
      "simplegeneric (0.8.1)\n",
      "six (1.11.0)\n",
      "sortedcontainers (1.5.9)\n",
      "SQLAlchemy (1.1.13)\n",
      "statsmodels (0.8.0)\n",
      "sympy (1.0)\n",
      "tblib (1.3.2)\n",
      "tensorboard (1.8.0)\n",
      "tensorflow (1.8.0)\n",
      "termcolor (1.1.0)\n",
      "terminado (0.8.1)\n",
      "testpath (0.3.1)\n",
      "toolz (0.9.0)\n",
      "tornado (4.5.3)\n",
      "traitlets (4.3.2)\n",
      "urllib3 (1.22)\n",
      "vincent (0.4.4)\n",
      "wcwidth (0.1.7)\n",
      "webencodings (0.5)\n",
      "Werkzeug (0.14.1)\n",
      "wheel (0.30.0)\n",
      "widgetsnbextension (3.1.4)\n",
      "xgboost (0.71)\n",
      "xlrd (1.1.0)\n",
      "zict (0.1.3)\n",
      "\u001b[33mThe directory '/home/jovyan/.cache/pip/http' or its parent directory is not owned by the current user and the cache has been disabled. Please check the permissions and owner of that directory. If executing pip with sudo, you may want sudo's -H flag.\u001b[0m\n",
      "\u001b[33mYou are using pip version 9.0.1, however version 21.0.1 is available.\n",
      "You should consider upgrading via the 'pip install --upgrade pip' command.\u001b[0m\n"
     ]
    }
   ],
   "source": [
    "!pip list"
   ]
  },
  {
   "cell_type": "code",
   "execution_count": null,
   "metadata": {},
   "outputs": [],
   "source": []
  }
 ],
 "metadata": {
  "kernelspec": {
   "display_name": "Python 3",
   "language": "python",
   "name": "python3"
  },
  "language_info": {
   "codemirror_mode": {
    "name": "ipython",
    "version": 3
   },
   "file_extension": ".py",
   "mimetype": "text/x-python",
   "name": "python",
   "nbconvert_exporter": "python",
   "pygments_lexer": "ipython3",
   "version": "3.6.5"
  },
  "toc": {
   "base_numbering": 1,
   "nav_menu": {},
   "number_sections": true,
   "sideBar": true,
   "skip_h1_title": false,
   "title_cell": "Table of Contents",
   "title_sidebar": "Contents",
   "toc_cell": false,
   "toc_position": {},
   "toc_section_display": true,
   "toc_window_display": false
  },
  "varInspector": {
   "cols": {
    "lenName": 16,
    "lenType": 16,
    "lenVar": 40
   },
   "kernels_config": {
    "python": {
     "delete_cmd_postfix": "",
     "delete_cmd_prefix": "del ",
     "library": "var_list.py",
     "varRefreshCmd": "print(var_dic_list())"
    },
    "r": {
     "delete_cmd_postfix": ") ",
     "delete_cmd_prefix": "rm(",
     "library": "var_list.r",
     "varRefreshCmd": "cat(var_dic_list()) "
    }
   },
   "types_to_exclude": [
    "module",
    "function",
    "builtin_function_or_method",
    "instance",
    "_Feature"
   ],
   "window_display": false
  }
 },
 "nbformat": 4,
 "nbformat_minor": 2
}
