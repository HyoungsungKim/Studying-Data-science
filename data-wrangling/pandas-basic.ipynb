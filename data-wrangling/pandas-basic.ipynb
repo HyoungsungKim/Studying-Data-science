{
 "metadata": {
  "language_info": {
   "codemirror_mode": {
    "name": "ipython",
    "version": 3
   },
   "file_extension": ".py",
   "mimetype": "text/x-python",
   "name": "python",
   "nbconvert_exporter": "python",
   "pygments_lexer": "ipython3",
   "version": "3.7.9-final"
  },
  "orig_nbformat": 2,
  "kernelspec": {
   "name": "python3",
   "display_name": "Python 3.7.9 64-bit",
   "metadata": {
    "interpreter": {
     "hash": "07e003401a86eb8b5fea8b0a13ca67db854c0ae54f4fa298c866700aff52983d"
    }
   }
  }
 },
 "nbformat": 4,
 "nbformat_minor": 2,
 "cells": [
  {
   "cell_type": "code",
   "execution_count": 2,
   "metadata": {},
   "outputs": [],
   "source": [
    "import pandas as pd\n",
    "from pandas import Series, DataFrame"
   ]
  },
  {
   "source": [
    "# Series"
   ],
   "cell_type": "markdown",
   "metadata": {}
  },
  {
   "cell_type": "code",
   "execution_count": 3,
   "metadata": {},
   "outputs": [
    {
     "output_type": "execute_result",
     "data": {
      "text/plain": [
       "0    4\n",
       "1    7\n",
       "2   -5\n",
       "3    3\n",
       "dtype: int64"
      ]
     },
     "metadata": {},
     "execution_count": 3
    }
   ],
   "source": [
    "obj = pd.Series([4, 7, -5, 3])\n",
    "obj"
   ]
  },
  {
   "cell_type": "code",
   "execution_count": 4,
   "metadata": {},
   "outputs": [
    {
     "output_type": "execute_result",
     "data": {
      "text/plain": [
       "array([ 4,  7, -5,  3], dtype=int64)"
      ]
     },
     "metadata": {},
     "execution_count": 4
    }
   ],
   "source": [
    "obj.values"
   ]
  },
  {
   "cell_type": "code",
   "execution_count": 5,
   "metadata": {},
   "outputs": [
    {
     "output_type": "execute_result",
     "data": {
      "text/plain": [
       "RangeIndex(start=0, stop=4, step=1)"
      ]
     },
     "metadata": {},
     "execution_count": 5
    }
   ],
   "source": [
    "obj.index"
   ]
  },
  {
   "cell_type": "code",
   "execution_count": 8,
   "metadata": {},
   "outputs": [
    {
     "output_type": "execute_result",
     "data": {
      "text/plain": [
       "d    4\n",
       "b    7\n",
       "a   -5\n",
       "c    3\n",
       "dtype: int64"
      ]
     },
     "metadata": {},
     "execution_count": 8
    }
   ],
   "source": [
    "obj2 = pd.Series([4, 7, -5, 3], index=['d', 'b', 'a', 'c'])\n",
    "obj2"
   ]
  },
  {
   "cell_type": "code",
   "execution_count": 9,
   "metadata": {},
   "outputs": [
    {
     "output_type": "execute_result",
     "data": {
      "text/plain": [
       "Index(['d', 'b', 'a', 'c'], dtype='object')"
      ]
     },
     "metadata": {},
     "execution_count": 9
    }
   ],
   "source": [
    "obj2.index"
   ]
  },
  {
   "cell_type": "code",
   "execution_count": 10,
   "metadata": {},
   "outputs": [
    {
     "output_type": "execute_result",
     "data": {
      "text/plain": [
       "d    4\n",
       "b    7\n",
       "c    3\n",
       "dtype: int64"
      ]
     },
     "metadata": {},
     "execution_count": 10
    }
   ],
   "source": [
    "obj2[obj2 > 2]"
   ]
  },
  {
   "cell_type": "code",
   "execution_count": 12,
   "metadata": {},
   "outputs": [
    {
     "output_type": "execute_result",
     "data": {
      "text/plain": [
       "Ohio      35000\n",
       "Texas     71000\n",
       "Oregon    16000\n",
       "Utah       5000\n",
       "dtype: int64"
      ]
     },
     "metadata": {},
     "execution_count": 12
    }
   ],
   "source": [
    "sdata = {\"Ohio\":35000, \"Texas\":71000, \"Oregon\":16000, \"Utah\":5000}\n",
    "obj3 = pd.Series(sdata)\n",
    "obj3"
   ]
  },
  {
   "cell_type": "code",
   "execution_count": 14,
   "metadata": {},
   "outputs": [
    {
     "output_type": "execute_result",
     "data": {
      "text/plain": [
       "State\n",
       "Ohio      35000\n",
       "Texas     71000\n",
       "Oregon    16000\n",
       "Utah       5000\n",
       "Name: Population, dtype: int64"
      ]
     },
     "metadata": {},
     "execution_count": 14
    }
   ],
   "source": [
    "obj3.name = \"Population\"\n",
    "obj3.index.name = \"State\"\n",
    "obj3"
   ]
  },
  {
   "cell_type": "code",
   "execution_count": 15,
   "metadata": {},
   "outputs": [
    {
     "output_type": "execute_result",
     "data": {
      "text/plain": [
       "array([0, 1, 2])"
      ]
     },
     "metadata": {},
     "execution_count": 15
    }
   ],
   "source": [
    "import numpy as np\n",
    "np.arange(3)"
   ]
  },
  {
   "source": [
    "# Essential funtionality"
   ],
   "cell_type": "markdown",
   "metadata": {}
  },
  {
   "cell_type": "code",
   "execution_count": 17,
   "metadata": {},
   "outputs": [
    {
     "output_type": "execute_result",
     "data": {
      "text/plain": [
       "d    4.5\n",
       "b    7.2\n",
       "a   -5.3\n",
       "c    3.6\n",
       "dtype: float64"
      ]
     },
     "metadata": {},
     "execution_count": 17
    }
   ],
   "source": [
    "obj = pd.Series([4.5, 7.2, -5.3, 3.6], index=['d', 'b', 'a', 'c'])\n",
    "obj"
   ]
  },
  {
   "cell_type": "code",
   "execution_count": 19,
   "metadata": {},
   "outputs": [
    {
     "output_type": "execute_result",
     "data": {
      "text/plain": [
       "a   -5.3\n",
       "b    7.2\n",
       "c    3.6\n",
       "d    4.5\n",
       "e    NaN\n",
       "dtype: float64"
      ]
     },
     "metadata": {},
     "execution_count": 19
    }
   ],
   "source": [
    "obj2 = obj.reindex(['a', 'b', 'c', 'd', 'e'])\n",
    "obj2"
   ]
  },
  {
   "cell_type": "code",
   "execution_count": 21,
   "metadata": {},
   "outputs": [
    {
     "output_type": "execute_result",
     "data": {
      "text/plain": [
       "nan"
      ]
     },
     "metadata": {},
     "execution_count": 21
    }
   ],
   "source": [
    "a = np.nan\n",
    "a == np.nan"
   ]
  },
  {
   "cell_type": "code",
   "execution_count": 22,
   "metadata": {},
   "outputs": [],
   "source": [
    "import pandas_datareader.data as web\n",
    "all_data = {ticker: web.get_data_yahoo(ticker) for ticker in [\"AAPL\", \"IBM\", \"MSFT\", \"GOOG\"]}"
   ]
  },
  {
   "cell_type": "code",
   "execution_count": 26,
   "metadata": {},
   "outputs": [
    {
     "output_type": "execute_result",
     "data": {
      "text/plain": [
       "{'AAPL':                   High         Low        Open       Close       Volume  \\\n",
       " Date                                                                      \n",
       " 2015-12-22   26.930000   26.612499   26.850000   26.807501  131157600.0   \n",
       " 2015-12-23   27.212500   26.799999   26.817499   27.152500  130629600.0   \n",
       " 2015-12-24   27.250000   26.987499   27.250000   27.007500   54281600.0   \n",
       " 2015-12-28   26.922501   26.545000   26.897499   26.705000  106816800.0   \n",
       " 2015-12-29   27.357500   26.715000   26.740000   27.184999  123724800.0   \n",
       " ...                ...         ...         ...         ...          ...   \n",
       " 2020-12-14  123.349998  121.540001  122.599998  121.779999   79184500.0   \n",
       " 2020-12-15  127.900002  124.129997  124.339996  127.879997  157572300.0   \n",
       " 2020-12-16  128.369995  126.559998  127.410004  127.809998   98208600.0   \n",
       " 2020-12-17  129.580002  128.039993  128.899994  128.699997   94359800.0   \n",
       " 2020-12-18  129.100006  126.120003  128.960007  126.660004  192354800.0   \n",
       " \n",
       "              Adj Close  \n",
       " Date                    \n",
       " 2015-12-22   24.836382  \n",
       " 2015-12-23   25.156017  \n",
       " 2015-12-24   25.021677  \n",
       " 2015-12-28   24.741419  \n",
       " 2015-12-29   25.186125  \n",
       " ...                ...  \n",
       " 2020-12-14  121.779999  \n",
       " 2020-12-15  127.879997  \n",
       " 2020-12-16  127.809998  \n",
       " 2020-12-17  128.699997  \n",
       " 2020-12-18  126.660004  \n",
       " \n",
       " [1258 rows x 6 columns],\n",
       " 'IBM':                   High         Low        Open       Close     Volume  \\\n",
       " Date                                                                    \n",
       " 2015-12-22  138.190002  135.649994  135.880005  137.929993  4263800.0   \n",
       " 2015-12-23  139.309998  138.110001  138.300003  138.539993  5164900.0   \n",
       " 2015-12-24  138.880005  138.110001  138.429993  138.250000  1495200.0   \n",
       " 2015-12-28  138.039993  136.539993  137.740005  137.610001  3143400.0   \n",
       " 2015-12-29  140.059998  138.199997  138.250000  139.779999  3943700.0   \n",
       " ...                ...         ...         ...         ...        ...   \n",
       " 2020-12-14  126.239998  123.470001  125.320000  123.529999  5050000.0   \n",
       " 2020-12-15  125.930000  123.440002  124.389999  125.930000  4359600.0   \n",
       " 2020-12-16  126.570000  125.290001  125.930000  125.550003  4530100.0   \n",
       " 2020-12-17  126.089996  124.910004  126.080002  125.550003  3788000.0   \n",
       " 2020-12-18  126.400002  124.970001  125.589996  125.849998  7550600.0   \n",
       " \n",
       "              Adj Close  \n",
       " Date                    \n",
       " 2015-12-22  109.896957  \n",
       " 2015-12-23  110.382957  \n",
       " 2015-12-24  110.151917  \n",
       " 2015-12-28  109.641991  \n",
       " 2015-12-29  111.370964  \n",
       " ...                ...  \n",
       " 2020-12-14  123.529999  \n",
       " 2020-12-15  125.930000  \n",
       " 2020-12-16  125.550003  \n",
       " 2020-12-17  125.550003  \n",
       " 2020-12-18  125.849998  \n",
       " \n",
       " [1258 rows x 6 columns],\n",
       " 'MSFT':                   High         Low        Open       Close      Volume  \\\n",
       " Date                                                                     \n",
       " 2015-12-22   55.480000   54.500000   54.990002   55.349998  28322200.0   \n",
       " 2015-12-23   55.880001   55.439999   55.700001   55.820000  27279800.0   \n",
       " 2015-12-24   55.959999   55.430000   55.860001   55.669998   9558500.0   \n",
       " 2015-12-28   55.950001   54.980000   55.349998   55.950001  22458300.0   \n",
       " 2015-12-29   56.849998   56.060001   56.290001   56.549999  27731400.0   \n",
       " ...                ...         ...         ...         ...         ...   \n",
       " 2020-12-14  216.210007  212.880005  213.100006  214.199997  28798400.0   \n",
       " 2020-12-15  215.419998  212.240005  215.169998  214.130005  27018100.0   \n",
       " 2020-12-16  220.110001  214.720001  214.750000  219.279999  35023300.0   \n",
       " 2020-12-17  220.889999  217.919998  219.869995  219.419998  32515800.0   \n",
       " 2020-12-18  219.690002  216.020004  218.589996  218.589996  63320100.0   \n",
       " \n",
       "              Adj Close  \n",
       " Date                    \n",
       " 2015-12-22   50.508629  \n",
       " 2015-12-23   50.937519  \n",
       " 2015-12-24   50.800640  \n",
       " 2015-12-28   51.056156  \n",
       " 2015-12-29   51.603676  \n",
       " ...                ...  \n",
       " 2020-12-14  214.199997  \n",
       " 2020-12-15  214.130005  \n",
       " 2020-12-16  219.279999  \n",
       " 2020-12-17  219.419998  \n",
       " 2020-12-18  218.589996  \n",
       " \n",
       " [1258 rows x 6 columns],\n",
       " 'GOOG':                    High          Low         Open        Close   Volume  \\\n",
       " Date                                                                      \n",
       " 2015-12-22   754.849976   745.530029   751.650024   750.000000  1365400   \n",
       " 2015-12-23   754.210022   744.000000   753.469971   750.309998  1565900   \n",
       " 2015-12-24   751.349976   746.619995   749.549988   748.400024   527200   \n",
       " 2015-12-28   762.989990   749.520020   752.919983   762.510010  1515300   \n",
       " 2015-12-29   779.979980   766.429993   766.690002   776.599976  1765000   \n",
       " ...                 ...          ...          ...          ...      ...   \n",
       " 2020-12-14  1797.390015  1757.214966  1775.000000  1760.060059  1600200   \n",
       " 2020-12-15  1771.420044  1749.949951  1764.420044  1767.770020  1482300   \n",
       " 2020-12-16  1773.000000  1756.079956  1772.880005  1763.000000  1513500   \n",
       " 2020-12-17  1771.784058  1738.660034  1768.510010  1747.900024  1624700   \n",
       " 2020-12-18  1755.109985  1720.219971  1754.180054  1731.010010  4015000   \n",
       " \n",
       "               Adj Close  \n",
       " Date                     \n",
       " 2015-12-22   750.000000  \n",
       " 2015-12-23   750.309998  \n",
       " 2015-12-24   748.400024  \n",
       " 2015-12-28   762.510010  \n",
       " 2015-12-29   776.599976  \n",
       " ...                 ...  \n",
       " 2020-12-14  1760.060059  \n",
       " 2020-12-15  1767.770020  \n",
       " 2020-12-16  1763.000000  \n",
       " 2020-12-17  1747.900024  \n",
       " 2020-12-18  1731.010010  \n",
       " \n",
       " [1258 rows x 6 columns]}"
      ]
     },
     "metadata": {},
     "execution_count": 26
    }
   ],
   "source": [
    "all_data"
   ]
  },
  {
   "cell_type": "code",
   "execution_count": 27,
   "metadata": {},
   "outputs": [],
   "source": [
    "price = pd.DataFrame({\n",
    "    ticker: data[\"Adj Close\"] for ticker, data in all_data.items()\n",
    "})\n",
    "\n",
    "volume = pd.DataFrame({\n",
    "    ticker: data[\"Volume\"] for ticker, data in all_data.items()\n",
    "})"
   ]
  },
  {
   "cell_type": "code",
   "execution_count": 28,
   "metadata": {},
   "outputs": [
    {
     "output_type": "execute_result",
     "data": {
      "text/plain": [
       "                 AAPL         IBM       MSFT        GOOG\n",
       "Date                                                    \n",
       "2015-12-22  24.836382  109.896957  50.508629  750.000000\n",
       "2015-12-23  25.156017  110.382957  50.937519  750.309998\n",
       "2015-12-24  25.021677  110.151917  50.800640  748.400024\n",
       "2015-12-28  24.741419  109.641991  51.056156  762.510010\n",
       "2015-12-29  25.186125  111.370964  51.603676  776.599976"
      ],
      "text/html": "<div>\n<style scoped>\n    .dataframe tbody tr th:only-of-type {\n        vertical-align: middle;\n    }\n\n    .dataframe tbody tr th {\n        vertical-align: top;\n    }\n\n    .dataframe thead th {\n        text-align: right;\n    }\n</style>\n<table border=\"1\" class=\"dataframe\">\n  <thead>\n    <tr style=\"text-align: right;\">\n      <th></th>\n      <th>AAPL</th>\n      <th>IBM</th>\n      <th>MSFT</th>\n      <th>GOOG</th>\n    </tr>\n    <tr>\n      <th>Date</th>\n      <th></th>\n      <th></th>\n      <th></th>\n      <th></th>\n    </tr>\n  </thead>\n  <tbody>\n    <tr>\n      <th>2015-12-22</th>\n      <td>24.836382</td>\n      <td>109.896957</td>\n      <td>50.508629</td>\n      <td>750.000000</td>\n    </tr>\n    <tr>\n      <th>2015-12-23</th>\n      <td>25.156017</td>\n      <td>110.382957</td>\n      <td>50.937519</td>\n      <td>750.309998</td>\n    </tr>\n    <tr>\n      <th>2015-12-24</th>\n      <td>25.021677</td>\n      <td>110.151917</td>\n      <td>50.800640</td>\n      <td>748.400024</td>\n    </tr>\n    <tr>\n      <th>2015-12-28</th>\n      <td>24.741419</td>\n      <td>109.641991</td>\n      <td>51.056156</td>\n      <td>762.510010</td>\n    </tr>\n    <tr>\n      <th>2015-12-29</th>\n      <td>25.186125</td>\n      <td>111.370964</td>\n      <td>51.603676</td>\n      <td>776.599976</td>\n    </tr>\n  </tbody>\n</table>\n</div>"
     },
     "metadata": {},
     "execution_count": 28
    }
   ],
   "source": [
    "price.head()"
   ]
  },
  {
   "cell_type": "code",
   "execution_count": 29,
   "metadata": {},
   "outputs": [
    {
     "output_type": "execute_result",
     "data": {
      "text/plain": [
       "                   AAPL        IBM        MSFT     GOOG\n",
       "Date                                                   \n",
       "2015-12-22  131157600.0  4263800.0  28322200.0  1365400\n",
       "2015-12-23  130629600.0  5164900.0  27279800.0  1565900\n",
       "2015-12-24   54281600.0  1495200.0   9558500.0   527200\n",
       "2015-12-28  106816800.0  3143400.0  22458300.0  1515300\n",
       "2015-12-29  123724800.0  3943700.0  27731400.0  1765000"
      ],
      "text/html": "<div>\n<style scoped>\n    .dataframe tbody tr th:only-of-type {\n        vertical-align: middle;\n    }\n\n    .dataframe tbody tr th {\n        vertical-align: top;\n    }\n\n    .dataframe thead th {\n        text-align: right;\n    }\n</style>\n<table border=\"1\" class=\"dataframe\">\n  <thead>\n    <tr style=\"text-align: right;\">\n      <th></th>\n      <th>AAPL</th>\n      <th>IBM</th>\n      <th>MSFT</th>\n      <th>GOOG</th>\n    </tr>\n    <tr>\n      <th>Date</th>\n      <th></th>\n      <th></th>\n      <th></th>\n      <th></th>\n    </tr>\n  </thead>\n  <tbody>\n    <tr>\n      <th>2015-12-22</th>\n      <td>131157600.0</td>\n      <td>4263800.0</td>\n      <td>28322200.0</td>\n      <td>1365400</td>\n    </tr>\n    <tr>\n      <th>2015-12-23</th>\n      <td>130629600.0</td>\n      <td>5164900.0</td>\n      <td>27279800.0</td>\n      <td>1565900</td>\n    </tr>\n    <tr>\n      <th>2015-12-24</th>\n      <td>54281600.0</td>\n      <td>1495200.0</td>\n      <td>9558500.0</td>\n      <td>527200</td>\n    </tr>\n    <tr>\n      <th>2015-12-28</th>\n      <td>106816800.0</td>\n      <td>3143400.0</td>\n      <td>22458300.0</td>\n      <td>1515300</td>\n    </tr>\n    <tr>\n      <th>2015-12-29</th>\n      <td>123724800.0</td>\n      <td>3943700.0</td>\n      <td>27731400.0</td>\n      <td>1765000</td>\n    </tr>\n  </tbody>\n</table>\n</div>"
     },
     "metadata": {},
     "execution_count": 29
    }
   ],
   "source": [
    "volume.head()"
   ]
  },
  {
   "cell_type": "code",
   "execution_count": 30,
   "metadata": {},
   "outputs": [
    {
     "output_type": "execute_result",
     "data": {
      "text/plain": [
       "                AAPL       IBM      MSFT      GOOG\n",
       "Date                                              \n",
       "2020-12-14 -0.005147 -0.005955  0.004408 -0.012184\n",
       "2020-12-15  0.050090  0.019428 -0.000327  0.004381\n",
       "2020-12-16 -0.000547 -0.003018  0.024051 -0.002698\n",
       "2020-12-17  0.006963  0.000000  0.000638 -0.008565\n",
       "2020-12-18 -0.015851  0.002389 -0.003783 -0.009663"
      ],
      "text/html": "<div>\n<style scoped>\n    .dataframe tbody tr th:only-of-type {\n        vertical-align: middle;\n    }\n\n    .dataframe tbody tr th {\n        vertical-align: top;\n    }\n\n    .dataframe thead th {\n        text-align: right;\n    }\n</style>\n<table border=\"1\" class=\"dataframe\">\n  <thead>\n    <tr style=\"text-align: right;\">\n      <th></th>\n      <th>AAPL</th>\n      <th>IBM</th>\n      <th>MSFT</th>\n      <th>GOOG</th>\n    </tr>\n    <tr>\n      <th>Date</th>\n      <th></th>\n      <th></th>\n      <th></th>\n      <th></th>\n    </tr>\n  </thead>\n  <tbody>\n    <tr>\n      <th>2020-12-14</th>\n      <td>-0.005147</td>\n      <td>-0.005955</td>\n      <td>0.004408</td>\n      <td>-0.012184</td>\n    </tr>\n    <tr>\n      <th>2020-12-15</th>\n      <td>0.050090</td>\n      <td>0.019428</td>\n      <td>-0.000327</td>\n      <td>0.004381</td>\n    </tr>\n    <tr>\n      <th>2020-12-16</th>\n      <td>-0.000547</td>\n      <td>-0.003018</td>\n      <td>0.024051</td>\n      <td>-0.002698</td>\n    </tr>\n    <tr>\n      <th>2020-12-17</th>\n      <td>0.006963</td>\n      <td>0.000000</td>\n      <td>0.000638</td>\n      <td>-0.008565</td>\n    </tr>\n    <tr>\n      <th>2020-12-18</th>\n      <td>-0.015851</td>\n      <td>0.002389</td>\n      <td>-0.003783</td>\n      <td>-0.009663</td>\n    </tr>\n  </tbody>\n</table>\n</div>"
     },
     "metadata": {},
     "execution_count": 30
    }
   ],
   "source": [
    "returns = price.pct_change()\n",
    "returns.tail()"
   ]
  },
  {
   "cell_type": "code",
   "execution_count": 31,
   "metadata": {},
   "outputs": [
    {
     "output_type": "execute_result",
     "data": {
      "text/plain": [
       "0.555922314566981"
      ]
     },
     "metadata": {},
     "execution_count": 31
    }
   ],
   "source": [
    "returns[\"MSFT\"].corr(returns[\"IBM\"])"
   ]
  },
  {
   "cell_type": "code",
   "execution_count": 32,
   "metadata": {},
   "outputs": [
    {
     "output_type": "execute_result",
     "data": {
      "text/plain": [
       "0.0001582248019799257"
      ]
     },
     "metadata": {},
     "execution_count": 32
    }
   ],
   "source": [
    "returns[\"MSFT\"].cov(returns[\"IBM\"])"
   ]
  },
  {
   "cell_type": "code",
   "execution_count": 37,
   "metadata": {},
   "outputs": [
    {
     "output_type": "execute_result",
     "data": {
      "text/plain": [
       "          AAPL       IBM      MSFT      GOOG\n",
       "AAPL  1.000000  0.471535  0.714296  0.655128\n",
       "IBM   0.471535  1.000000  0.555922  0.518703\n",
       "MSFT  0.714296  0.555922  1.000000  0.778764\n",
       "GOOG  0.655128  0.518703  0.778764  1.000000"
      ],
      "text/html": "<div>\n<style scoped>\n    .dataframe tbody tr th:only-of-type {\n        vertical-align: middle;\n    }\n\n    .dataframe tbody tr th {\n        vertical-align: top;\n    }\n\n    .dataframe thead th {\n        text-align: right;\n    }\n</style>\n<table border=\"1\" class=\"dataframe\">\n  <thead>\n    <tr style=\"text-align: right;\">\n      <th></th>\n      <th>AAPL</th>\n      <th>IBM</th>\n      <th>MSFT</th>\n      <th>GOOG</th>\n    </tr>\n  </thead>\n  <tbody>\n    <tr>\n      <th>AAPL</th>\n      <td>1.000000</td>\n      <td>0.471535</td>\n      <td>0.714296</td>\n      <td>0.655128</td>\n    </tr>\n    <tr>\n      <th>IBM</th>\n      <td>0.471535</td>\n      <td>1.000000</td>\n      <td>0.555922</td>\n      <td>0.518703</td>\n    </tr>\n    <tr>\n      <th>MSFT</th>\n      <td>0.714296</td>\n      <td>0.555922</td>\n      <td>1.000000</td>\n      <td>0.778764</td>\n    </tr>\n    <tr>\n      <th>GOOG</th>\n      <td>0.655128</td>\n      <td>0.518703</td>\n      <td>0.778764</td>\n      <td>1.000000</td>\n    </tr>\n  </tbody>\n</table>\n</div>"
     },
     "metadata": {},
     "execution_count": 37
    }
   ],
   "source": [
    "returns.corr()"
   ]
  },
  {
   "cell_type": "code",
   "execution_count": 38,
   "metadata": {},
   "outputs": [
    {
     "output_type": "execute_result",
     "data": {
      "text/plain": [
       "          AAPL       IBM      MSFT      GOOG\n",
       "AAPL  0.000361  0.000146  0.000237  0.000207\n",
       "IBM   0.000146  0.000265  0.000158  0.000140\n",
       "MSFT  0.000237  0.000158  0.000306  0.000226\n",
       "GOOG  0.000207  0.000140  0.000226  0.000277"
      ],
      "text/html": "<div>\n<style scoped>\n    .dataframe tbody tr th:only-of-type {\n        vertical-align: middle;\n    }\n\n    .dataframe tbody tr th {\n        vertical-align: top;\n    }\n\n    .dataframe thead th {\n        text-align: right;\n    }\n</style>\n<table border=\"1\" class=\"dataframe\">\n  <thead>\n    <tr style=\"text-align: right;\">\n      <th></th>\n      <th>AAPL</th>\n      <th>IBM</th>\n      <th>MSFT</th>\n      <th>GOOG</th>\n    </tr>\n  </thead>\n  <tbody>\n    <tr>\n      <th>AAPL</th>\n      <td>0.000361</td>\n      <td>0.000146</td>\n      <td>0.000237</td>\n      <td>0.000207</td>\n    </tr>\n    <tr>\n      <th>IBM</th>\n      <td>0.000146</td>\n      <td>0.000265</td>\n      <td>0.000158</td>\n      <td>0.000140</td>\n    </tr>\n    <tr>\n      <th>MSFT</th>\n      <td>0.000237</td>\n      <td>0.000158</td>\n      <td>0.000306</td>\n      <td>0.000226</td>\n    </tr>\n    <tr>\n      <th>GOOG</th>\n      <td>0.000207</td>\n      <td>0.000140</td>\n      <td>0.000226</td>\n      <td>0.000277</td>\n    </tr>\n  </tbody>\n</table>\n</div>"
     },
     "metadata": {},
     "execution_count": 38
    }
   ],
   "source": [
    "returns.cov()"
   ]
  },
  {
   "cell_type": "code",
   "execution_count": 40,
   "metadata": {},
   "outputs": [
    {
     "output_type": "execute_result",
     "data": {
      "text/plain": [
       "AAPL    0.471535\n",
       "IBM     1.000000\n",
       "MSFT    0.555922\n",
       "GOOG    0.518703\n",
       "dtype: float64"
      ]
     },
     "metadata": {},
     "execution_count": 40
    }
   ],
   "source": [
    "returns.corrwith(returns[\"IBM\"])"
   ]
  },
  {
   "cell_type": "code",
   "execution_count": null,
   "metadata": {},
   "outputs": [],
   "source": []
  }
 ]
}