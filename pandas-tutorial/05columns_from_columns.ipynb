{
 "metadata": {
  "language_info": {
   "codemirror_mode": {
    "name": "ipython",
    "version": 3
   },
   "file_extension": ".py",
   "mimetype": "text/x-python",
   "name": "python",
   "nbconvert_exporter": "python",
   "pygments_lexer": "ipython3",
   "version": "3.7.9-final"
  },
  "orig_nbformat": 2,
  "kernelspec": {
   "name": "python3",
   "display_name": "Python 3.7.9 64-bit",
   "metadata": {
    "interpreter": {
     "hash": "07e003401a86eb8b5fea8b0a13ca67db854c0ae54f4fa298c866700aff52983d"
    }
   }
  }
 },
 "nbformat": 4,
 "nbformat_minor": 2,
 "cells": [
  {
   "cell_type": "code",
   "execution_count": 1,
   "metadata": {},
   "outputs": [],
   "source": [
    "import pandas as pd"
   ]
  },
  {
   "cell_type": "code",
   "execution_count": 6,
   "metadata": {},
   "outputs": [
    {
     "output_type": "execute_result",
     "data": {
      "text/plain": [
       "                     station_antwerp  station_paris  station_london\n",
       "datetime                                                           \n",
       "2019-05-07 02:00:00              NaN            NaN            23.0\n",
       "2019-05-07 03:00:00             50.5           25.0            19.0\n",
       "2019-05-07 04:00:00             45.0           27.7            19.0\n",
       "2019-05-07 05:00:00              NaN           50.4            16.0\n",
       "2019-05-07 06:00:00              NaN           61.9             NaN\n",
       "...                              ...            ...             ...\n",
       "2019-06-20 22:00:00              NaN           21.4             NaN\n",
       "2019-06-20 23:00:00              NaN           24.9             NaN\n",
       "2019-06-21 00:00:00              NaN           26.5             NaN\n",
       "2019-06-21 01:00:00              NaN           21.8             NaN\n",
       "2019-06-21 02:00:00              NaN           20.0             NaN\n",
       "\n",
       "[1035 rows x 3 columns]"
      ],
      "text/html": "<div>\n<style scoped>\n    .dataframe tbody tr th:only-of-type {\n        vertical-align: middle;\n    }\n\n    .dataframe tbody tr th {\n        vertical-align: top;\n    }\n\n    .dataframe thead th {\n        text-align: right;\n    }\n</style>\n<table border=\"1\" class=\"dataframe\">\n  <thead>\n    <tr style=\"text-align: right;\">\n      <th></th>\n      <th>station_antwerp</th>\n      <th>station_paris</th>\n      <th>station_london</th>\n    </tr>\n    <tr>\n      <th>datetime</th>\n      <th></th>\n      <th></th>\n      <th></th>\n    </tr>\n  </thead>\n  <tbody>\n    <tr>\n      <th>2019-05-07 02:00:00</th>\n      <td>NaN</td>\n      <td>NaN</td>\n      <td>23.0</td>\n    </tr>\n    <tr>\n      <th>2019-05-07 03:00:00</th>\n      <td>50.5</td>\n      <td>25.0</td>\n      <td>19.0</td>\n    </tr>\n    <tr>\n      <th>2019-05-07 04:00:00</th>\n      <td>45.0</td>\n      <td>27.7</td>\n      <td>19.0</td>\n    </tr>\n    <tr>\n      <th>2019-05-07 05:00:00</th>\n      <td>NaN</td>\n      <td>50.4</td>\n      <td>16.0</td>\n    </tr>\n    <tr>\n      <th>2019-05-07 06:00:00</th>\n      <td>NaN</td>\n      <td>61.9</td>\n      <td>NaN</td>\n    </tr>\n    <tr>\n      <th>...</th>\n      <td>...</td>\n      <td>...</td>\n      <td>...</td>\n    </tr>\n    <tr>\n      <th>2019-06-20 22:00:00</th>\n      <td>NaN</td>\n      <td>21.4</td>\n      <td>NaN</td>\n    </tr>\n    <tr>\n      <th>2019-06-20 23:00:00</th>\n      <td>NaN</td>\n      <td>24.9</td>\n      <td>NaN</td>\n    </tr>\n    <tr>\n      <th>2019-06-21 00:00:00</th>\n      <td>NaN</td>\n      <td>26.5</td>\n      <td>NaN</td>\n    </tr>\n    <tr>\n      <th>2019-06-21 01:00:00</th>\n      <td>NaN</td>\n      <td>21.8</td>\n      <td>NaN</td>\n    </tr>\n    <tr>\n      <th>2019-06-21 02:00:00</th>\n      <td>NaN</td>\n      <td>20.0</td>\n      <td>NaN</td>\n    </tr>\n  </tbody>\n</table>\n<p>1035 rows × 3 columns</p>\n</div>"
     },
     "metadata": {},
     "execution_count": 6
    }
   ],
   "source": [
    "air_quality = pd.read_csv(\"./data/air_quality_no2.csv\", index_col=0, parse_dates=True)\n",
    "air_quality"
   ]
  },
  {
   "source": [
    "# How to create new columns derived from existing columns"
   ],
   "cell_type": "markdown",
   "metadata": {}
  },
  {
   "cell_type": "code",
   "execution_count": 7,
   "metadata": {},
   "outputs": [
    {
     "output_type": "execute_result",
     "data": {
      "text/plain": [
       "                     station_antwerp  station_paris  station_london\n",
       "datetime                                                           \n",
       "2019-05-07 02:00:00              NaN            NaN            23.0\n",
       "2019-05-07 03:00:00             50.5           25.0            19.0\n",
       "2019-05-07 04:00:00             45.0           27.7            19.0\n",
       "2019-05-07 05:00:00              NaN           50.4            16.0\n",
       "2019-05-07 06:00:00              NaN           61.9             NaN"
      ],
      "text/html": "<div>\n<style scoped>\n    .dataframe tbody tr th:only-of-type {\n        vertical-align: middle;\n    }\n\n    .dataframe tbody tr th {\n        vertical-align: top;\n    }\n\n    .dataframe thead th {\n        text-align: right;\n    }\n</style>\n<table border=\"1\" class=\"dataframe\">\n  <thead>\n    <tr style=\"text-align: right;\">\n      <th></th>\n      <th>station_antwerp</th>\n      <th>station_paris</th>\n      <th>station_london</th>\n    </tr>\n    <tr>\n      <th>datetime</th>\n      <th></th>\n      <th></th>\n      <th></th>\n    </tr>\n  </thead>\n  <tbody>\n    <tr>\n      <th>2019-05-07 02:00:00</th>\n      <td>NaN</td>\n      <td>NaN</td>\n      <td>23.0</td>\n    </tr>\n    <tr>\n      <th>2019-05-07 03:00:00</th>\n      <td>50.5</td>\n      <td>25.0</td>\n      <td>19.0</td>\n    </tr>\n    <tr>\n      <th>2019-05-07 04:00:00</th>\n      <td>45.0</td>\n      <td>27.7</td>\n      <td>19.0</td>\n    </tr>\n    <tr>\n      <th>2019-05-07 05:00:00</th>\n      <td>NaN</td>\n      <td>50.4</td>\n      <td>16.0</td>\n    </tr>\n    <tr>\n      <th>2019-05-07 06:00:00</th>\n      <td>NaN</td>\n      <td>61.9</td>\n      <td>NaN</td>\n    </tr>\n  </tbody>\n</table>\n</div>"
     },
     "metadata": {},
     "execution_count": 7
    }
   ],
   "source": [
    "air_quality.head()"
   ]
  },
  {
   "cell_type": "code",
   "execution_count": 8,
   "metadata": {},
   "outputs": [
    {
     "output_type": "execute_result",
     "data": {
      "text/plain": [
       "                     station_antwerp  station_paris  station_london  \\\n",
       "datetime                                                              \n",
       "2019-05-07 02:00:00              NaN            NaN            23.0   \n",
       "2019-05-07 03:00:00             50.5           25.0            19.0   \n",
       "2019-05-07 04:00:00             45.0           27.7            19.0   \n",
       "2019-05-07 05:00:00              NaN           50.4            16.0   \n",
       "2019-05-07 06:00:00              NaN           61.9             NaN   \n",
       "\n",
       "                     london_mg_per_cubic  \n",
       "datetime                                  \n",
       "2019-05-07 02:00:00               43.286  \n",
       "2019-05-07 03:00:00               35.758  \n",
       "2019-05-07 04:00:00               35.758  \n",
       "2019-05-07 05:00:00               30.112  \n",
       "2019-05-07 06:00:00                  NaN  "
      ],
      "text/html": "<div>\n<style scoped>\n    .dataframe tbody tr th:only-of-type {\n        vertical-align: middle;\n    }\n\n    .dataframe tbody tr th {\n        vertical-align: top;\n    }\n\n    .dataframe thead th {\n        text-align: right;\n    }\n</style>\n<table border=\"1\" class=\"dataframe\">\n  <thead>\n    <tr style=\"text-align: right;\">\n      <th></th>\n      <th>station_antwerp</th>\n      <th>station_paris</th>\n      <th>station_london</th>\n      <th>london_mg_per_cubic</th>\n    </tr>\n    <tr>\n      <th>datetime</th>\n      <th></th>\n      <th></th>\n      <th></th>\n      <th></th>\n    </tr>\n  </thead>\n  <tbody>\n    <tr>\n      <th>2019-05-07 02:00:00</th>\n      <td>NaN</td>\n      <td>NaN</td>\n      <td>23.0</td>\n      <td>43.286</td>\n    </tr>\n    <tr>\n      <th>2019-05-07 03:00:00</th>\n      <td>50.5</td>\n      <td>25.0</td>\n      <td>19.0</td>\n      <td>35.758</td>\n    </tr>\n    <tr>\n      <th>2019-05-07 04:00:00</th>\n      <td>45.0</td>\n      <td>27.7</td>\n      <td>19.0</td>\n      <td>35.758</td>\n    </tr>\n    <tr>\n      <th>2019-05-07 05:00:00</th>\n      <td>NaN</td>\n      <td>50.4</td>\n      <td>16.0</td>\n      <td>30.112</td>\n    </tr>\n    <tr>\n      <th>2019-05-07 06:00:00</th>\n      <td>NaN</td>\n      <td>61.9</td>\n      <td>NaN</td>\n      <td>NaN</td>\n    </tr>\n  </tbody>\n</table>\n</div>"
     },
     "metadata": {},
     "execution_count": 8
    }
   ],
   "source": [
    "air_quality[\"london_mg_per_cubic\"] = air_quality[\"station_london\"] * 1.882\n",
    "air_quality.head()"
   ]
  },
  {
   "cell_type": "code",
   "execution_count": 16,
   "metadata": {},
   "outputs": [],
   "source": [
    "air_quality[\"index\"] = [x for x in range(len(air_quality.index))]"
   ]
  },
  {
   "cell_type": "code",
   "execution_count": 17,
   "metadata": {},
   "outputs": [
    {
     "output_type": "execute_result",
     "data": {
      "text/plain": [
       "                     station_antwerp  station_paris  station_london  \\\n",
       "datetime                                                              \n",
       "2019-05-07 02:00:00              NaN            NaN            23.0   \n",
       "2019-05-07 03:00:00             50.5           25.0            19.0   \n",
       "2019-05-07 04:00:00             45.0           27.7            19.0   \n",
       "2019-05-07 05:00:00              NaN           50.4            16.0   \n",
       "2019-05-07 06:00:00              NaN           61.9             NaN   \n",
       "\n",
       "                     london_mg_per_cubic  index  \n",
       "datetime                                         \n",
       "2019-05-07 02:00:00               43.286      0  \n",
       "2019-05-07 03:00:00               35.758      1  \n",
       "2019-05-07 04:00:00               35.758      2  \n",
       "2019-05-07 05:00:00               30.112      3  \n",
       "2019-05-07 06:00:00                  NaN      4  "
      ],
      "text/html": "<div>\n<style scoped>\n    .dataframe tbody tr th:only-of-type {\n        vertical-align: middle;\n    }\n\n    .dataframe tbody tr th {\n        vertical-align: top;\n    }\n\n    .dataframe thead th {\n        text-align: right;\n    }\n</style>\n<table border=\"1\" class=\"dataframe\">\n  <thead>\n    <tr style=\"text-align: right;\">\n      <th></th>\n      <th>station_antwerp</th>\n      <th>station_paris</th>\n      <th>station_london</th>\n      <th>london_mg_per_cubic</th>\n      <th>index</th>\n    </tr>\n    <tr>\n      <th>datetime</th>\n      <th></th>\n      <th></th>\n      <th></th>\n      <th></th>\n      <th></th>\n    </tr>\n  </thead>\n  <tbody>\n    <tr>\n      <th>2019-05-07 02:00:00</th>\n      <td>NaN</td>\n      <td>NaN</td>\n      <td>23.0</td>\n      <td>43.286</td>\n      <td>0</td>\n    </tr>\n    <tr>\n      <th>2019-05-07 03:00:00</th>\n      <td>50.5</td>\n      <td>25.0</td>\n      <td>19.0</td>\n      <td>35.758</td>\n      <td>1</td>\n    </tr>\n    <tr>\n      <th>2019-05-07 04:00:00</th>\n      <td>45.0</td>\n      <td>27.7</td>\n      <td>19.0</td>\n      <td>35.758</td>\n      <td>2</td>\n    </tr>\n    <tr>\n      <th>2019-05-07 05:00:00</th>\n      <td>NaN</td>\n      <td>50.4</td>\n      <td>16.0</td>\n      <td>30.112</td>\n      <td>3</td>\n    </tr>\n    <tr>\n      <th>2019-05-07 06:00:00</th>\n      <td>NaN</td>\n      <td>61.9</td>\n      <td>NaN</td>\n      <td>NaN</td>\n      <td>4</td>\n    </tr>\n  </tbody>\n</table>\n</div>"
     },
     "metadata": {},
     "execution_count": 17
    }
   ],
   "source": [
    "air_quality.head()"
   ]
  },
  {
   "cell_type": "code",
   "execution_count": 20,
   "metadata": {},
   "outputs": [
    {
     "output_type": "execute_result",
     "data": {
      "text/plain": [
       "                     STATION_ANTWERP  STATION_PARIS  STATION_LONDON  \\\n",
       "datetime                                                              \n",
       "2019-05-07 02:00:00              NaN            NaN            23.0   \n",
       "2019-05-07 03:00:00             50.5           25.0            19.0   \n",
       "2019-05-07 04:00:00             45.0           27.7            19.0   \n",
       "2019-05-07 05:00:00              NaN           50.4            16.0   \n",
       "2019-05-07 06:00:00              NaN           61.9             NaN   \n",
       "...                              ...            ...             ...   \n",
       "2019-06-20 22:00:00              NaN           21.4             NaN   \n",
       "2019-06-20 23:00:00              NaN           24.9             NaN   \n",
       "2019-06-21 00:00:00              NaN           26.5             NaN   \n",
       "2019-06-21 01:00:00              NaN           21.8             NaN   \n",
       "2019-06-21 02:00:00              NaN           20.0             NaN   \n",
       "\n",
       "                     LONDON_MG_PER_CUBIC  INDEX  \n",
       "datetime                                         \n",
       "2019-05-07 02:00:00               43.286      0  \n",
       "2019-05-07 03:00:00               35.758      1  \n",
       "2019-05-07 04:00:00               35.758      2  \n",
       "2019-05-07 05:00:00               30.112      3  \n",
       "2019-05-07 06:00:00                  NaN      4  \n",
       "...                                  ...    ...  \n",
       "2019-06-20 22:00:00                  NaN   1030  \n",
       "2019-06-20 23:00:00                  NaN   1031  \n",
       "2019-06-21 00:00:00                  NaN   1032  \n",
       "2019-06-21 01:00:00                  NaN   1033  \n",
       "2019-06-21 02:00:00                  NaN   1034  \n",
       "\n",
       "[1035 rows x 5 columns]"
      ],
      "text/html": "<div>\n<style scoped>\n    .dataframe tbody tr th:only-of-type {\n        vertical-align: middle;\n    }\n\n    .dataframe tbody tr th {\n        vertical-align: top;\n    }\n\n    .dataframe thead th {\n        text-align: right;\n    }\n</style>\n<table border=\"1\" class=\"dataframe\">\n  <thead>\n    <tr style=\"text-align: right;\">\n      <th></th>\n      <th>STATION_ANTWERP</th>\n      <th>STATION_PARIS</th>\n      <th>STATION_LONDON</th>\n      <th>LONDON_MG_PER_CUBIC</th>\n      <th>INDEX</th>\n    </tr>\n    <tr>\n      <th>datetime</th>\n      <th></th>\n      <th></th>\n      <th></th>\n      <th></th>\n      <th></th>\n    </tr>\n  </thead>\n  <tbody>\n    <tr>\n      <th>2019-05-07 02:00:00</th>\n      <td>NaN</td>\n      <td>NaN</td>\n      <td>23.0</td>\n      <td>43.286</td>\n      <td>0</td>\n    </tr>\n    <tr>\n      <th>2019-05-07 03:00:00</th>\n      <td>50.5</td>\n      <td>25.0</td>\n      <td>19.0</td>\n      <td>35.758</td>\n      <td>1</td>\n    </tr>\n    <tr>\n      <th>2019-05-07 04:00:00</th>\n      <td>45.0</td>\n      <td>27.7</td>\n      <td>19.0</td>\n      <td>35.758</td>\n      <td>2</td>\n    </tr>\n    <tr>\n      <th>2019-05-07 05:00:00</th>\n      <td>NaN</td>\n      <td>50.4</td>\n      <td>16.0</td>\n      <td>30.112</td>\n      <td>3</td>\n    </tr>\n    <tr>\n      <th>2019-05-07 06:00:00</th>\n      <td>NaN</td>\n      <td>61.9</td>\n      <td>NaN</td>\n      <td>NaN</td>\n      <td>4</td>\n    </tr>\n    <tr>\n      <th>...</th>\n      <td>...</td>\n      <td>...</td>\n      <td>...</td>\n      <td>...</td>\n      <td>...</td>\n    </tr>\n    <tr>\n      <th>2019-06-20 22:00:00</th>\n      <td>NaN</td>\n      <td>21.4</td>\n      <td>NaN</td>\n      <td>NaN</td>\n      <td>1030</td>\n    </tr>\n    <tr>\n      <th>2019-06-20 23:00:00</th>\n      <td>NaN</td>\n      <td>24.9</td>\n      <td>NaN</td>\n      <td>NaN</td>\n      <td>1031</td>\n    </tr>\n    <tr>\n      <th>2019-06-21 00:00:00</th>\n      <td>NaN</td>\n      <td>26.5</td>\n      <td>NaN</td>\n      <td>NaN</td>\n      <td>1032</td>\n    </tr>\n    <tr>\n      <th>2019-06-21 01:00:00</th>\n      <td>NaN</td>\n      <td>21.8</td>\n      <td>NaN</td>\n      <td>NaN</td>\n      <td>1033</td>\n    </tr>\n    <tr>\n      <th>2019-06-21 02:00:00</th>\n      <td>NaN</td>\n      <td>20.0</td>\n      <td>NaN</td>\n      <td>NaN</td>\n      <td>1034</td>\n    </tr>\n  </tbody>\n</table>\n<p>1035 rows × 5 columns</p>\n</div>"
     },
     "metadata": {},
     "execution_count": 20
    }
   ],
   "source": [
    "air_quality_renamed = air_quality.rename(columns=str.upper)\n",
    "air_quality_renamed"
   ]
  },
  {
   "cell_type": "code",
   "execution_count": null,
   "metadata": {},
   "outputs": [],
   "source": []
  }
 ]
}